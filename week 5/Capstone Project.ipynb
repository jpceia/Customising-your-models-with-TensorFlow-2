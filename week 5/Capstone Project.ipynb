{
 "cells": [
  {
   "cell_type": "markdown",
   "metadata": {},
   "source": [
    "# Capstone Project\n",
    "## Neural translation model\n",
    "### Instructions\n",
    "\n",
    "In this notebook, you will create a neural network that translates from English to German. You will use concepts from throughout this course, including building more flexible model architectures, freezing layers, data processing pipeline and sequence modelling.\n",
    "\n",
    "This project is peer-assessed. Within this notebook you will find instructions in each section for how to complete the project. Pay close attention to the instructions as the peer review will be carried out according to a grading rubric that checks key parts of the project instructions. Feel free to add extra cells into the notebook as required.\n",
    "\n",
    "### How to submit\n",
    "\n",
    "When you have completed the Capstone project notebook, you will submit a pdf of the notebook for peer review. First ensure that the notebook has been fully executed from beginning to end, and all of the cell outputs are visible. This is important, as the grading rubric depends on the reviewer being able to view the outputs of your notebook. Save the notebook as a pdf (File -> Download as -> PDF via LaTeX). You should then submit this pdf for review.\n",
    "\n",
    "### Let's get started!\n",
    "\n",
    "We'll start by running some imports, and loading the dataset. For this project you are free to make further imports throughout the notebook as you wish. "
   ]
  },
  {
   "cell_type": "code",
   "execution_count": 1,
   "metadata": {
    "ExecuteTime": {
     "end_time": "2022-04-26T09:59:47.148165Z",
     "start_time": "2022-04-26T09:59:42.028014Z"
    }
   },
   "outputs": [],
   "source": [
    "import tensorflow as tf\n",
    "import tensorflow_hub as hub\n",
    "import unicodedata\n",
    "import re\n",
    "\n",
    "# Extra imports\n",
    "import numpy as np\n",
    "import pandas as pd\n",
    "from tqdm import tqdm\n",
    "from sklearn.model_selection import train_test_split\n",
    "from tensorflow.keras import Sequential, Input\n",
    "from tensorflow.keras.layers import Dense, Embedding, Masking, LSTM\n",
    "from tensorflow.keras.preprocessing.text import Tokenizer\n",
    "from tensorflow.keras.preprocessing.sequence import pad_sequences"
   ]
  },
  {
   "cell_type": "markdown",
   "metadata": {},
   "source": [
    "![Flags overview image](data/germany_uk_flags.png)\n",
    "\n",
    "For the capstone project, you will use a language dataset from http://www.manythings.org/anki/ to build a neural translation model. This dataset consists of over 200,000 pairs of sentences in English and German. In order to make the training quicker, we will restrict to our dataset to 20,000 pairs. Feel free to change this if you wish - the size of the dataset used is not part of the grading rubric.\n",
    "\n",
    "Your goal is to develop a neural translation model from English to German, making use of a pre-trained English word embedding module."
   ]
  },
  {
   "cell_type": "code",
   "execution_count": 2,
   "metadata": {
    "ExecuteTime": {
     "end_time": "2022-04-26T09:59:47.288699Z",
     "start_time": "2022-04-26T09:59:47.150046Z"
    }
   },
   "outputs": [],
   "source": [
    "# Run this cell to load the dataset\n",
    "\n",
    "NUM_EXAMPLES = 20000\n",
    "data_examples = []\n",
    "with open('data/deu.txt', 'r', encoding='utf8') as f:\n",
    "    for line in f.readlines():\n",
    "        if len(data_examples) < NUM_EXAMPLES:\n",
    "            data_examples.append(line)\n",
    "        else:\n",
    "            break"
   ]
  },
  {
   "cell_type": "code",
   "execution_count": 3,
   "metadata": {
    "ExecuteTime": {
     "end_time": "2022-04-26T09:59:47.304897Z",
     "start_time": "2022-04-26T09:59:47.291588Z"
    }
   },
   "outputs": [],
   "source": [
    "# These functions preprocess English and German sentences\n",
    "\n",
    "def unicode_to_ascii(s):\n",
    "    return ''.join(c for c in unicodedata.normalize('NFD', s) if unicodedata.category(c) != 'Mn')\n",
    "\n",
    "def preprocess_sentence(sentence):\n",
    "    sentence = sentence.lower().strip()\n",
    "    sentence = re.sub(r\"ü\", 'ue', sentence)\n",
    "    sentence = re.sub(r\"ä\", 'ae', sentence)\n",
    "    sentence = re.sub(r\"ö\", 'oe', sentence)\n",
    "    sentence = re.sub(r'ß', 'ss', sentence)\n",
    "    \n",
    "    sentence = unicode_to_ascii(sentence)\n",
    "    sentence = re.sub(r\"([?.!,])\", r\" \\1 \", sentence)\n",
    "    sentence = re.sub(r\"[^a-z?.!,']+\", \" \", sentence)\n",
    "    sentence = re.sub(r'[\" \"]+', \" \", sentence)\n",
    "    \n",
    "    return sentence.strip()"
   ]
  },
  {
   "cell_type": "markdown",
   "metadata": {},
   "source": [
    "#### The custom translation model\n",
    "The following is a schematic of the custom translation model architecture you will develop in this project.\n",
    "\n",
    "![Model Schematic](data/neural_translation_model.png)\n",
    "\n",
    "Key:\n",
    "![Model key](data/neural_translation_model_key.png)\n",
    "\n",
    "The custom model consists of an encoder RNN and a decoder RNN. The encoder takes words of an English sentence as input, and uses a pre-trained word embedding to embed the words into a 128-dimensional space. To indicate the end of the input sentence, a special end token (in the same 128-dimensional space) is passed in as an input. This token is a TensorFlow Variable that is learned in the training phase (unlike the pre-trained word embedding, which is frozen).\n",
    "\n",
    "The decoder RNN takes the internal state of the encoder network as its initial state. A start token is passed in as the first input, which is embedded using a learned German word embedding. The decoder RNN then makes a prediction for the next German word, which during inference is then passed in as the following input, and this process is repeated until the special `<end>` token is emitted from the decoder."
   ]
  },
  {
   "cell_type": "markdown",
   "metadata": {},
   "source": [
    "## 1. Text preprocessing\n",
    "* Create separate lists of English and German sentences, and preprocess them using the `preprocess_sentence` function provided for you above.\n",
    "* Add a special `\"<start>\"` and `\"<end>\"` token to the beginning and end of every German sentence.\n",
    "* Use the Tokenizer class from the `tf.keras.preprocessing.text` module to tokenize the German sentences, ensuring that no character filters are applied. _Hint: use the Tokenizer's \"filter\" keyword argument._\n",
    "* Print out at least 5 randomly chosen examples of (preprocessed) English and German sentence pairs. For the German sentence, print out the text (with start and end tokens) as well as the tokenized sequence.\n",
    "* Pad the end of the tokenized German sequences with zeros, and batch the complete set of sequences into one numpy array."
   ]
  },
  {
   "cell_type": "code",
   "execution_count": 4,
   "metadata": {
    "ExecuteTime": {
     "end_time": "2022-04-26T09:59:48.011346Z",
     "start_time": "2022-04-26T09:59:47.305818Z"
    },
    "scrolled": true
   },
   "outputs": [],
   "source": [
    "en_sentences = []\n",
    "ge_sentences = []\n",
    "\n",
    "for text in data_examples:\n",
    "    \n",
    "    # Create separate lists of English and German sentences\n",
    "    en_sentence, ge_sentence, _ = text.split(\"\\t\")\n",
    "    \n",
    "    # preprocess them using the preprocess_sentence function provided for you above.\n",
    "    en_sentence = preprocess_sentence(en_sentence)\n",
    "    ge_sentence = preprocess_sentence(ge_sentence)\n",
    "    \n",
    "    # add a special \"<start>\" and \"<end>\" token to the beginning and end of every German sentence.\n",
    "    ge_sentence = \"<start> \" + ge_sentence + \" <end>\"\n",
    "\n",
    "    en_sentences.append(en_sentence)\n",
    "    ge_sentences.append(ge_sentence)"
   ]
  },
  {
   "cell_type": "code",
   "execution_count": 5,
   "metadata": {
    "ExecuteTime": {
     "end_time": "2022-04-26T09:59:48.262364Z",
     "start_time": "2022-04-26T09:59:48.013552Z"
    }
   },
   "outputs": [],
   "source": [
    "# Tokenize the German sentences, ensuring that no character filters are applied\n",
    "\n",
    "tokenizer = Tokenizer(filters=\"\")\n",
    "tokenizer.fit_on_texts(ge_sentences)\n",
    "ge_token_sequences = tokenizer.texts_to_sequences(ge_sentences)"
   ]
  },
  {
   "cell_type": "code",
   "execution_count": 6,
   "metadata": {
    "ExecuteTime": {
     "end_time": "2022-04-26T09:59:48.277792Z",
     "start_time": "2022-04-26T09:59:48.264969Z"
    }
   },
   "outputs": [
    {
     "name": "stdout",
     "output_type": "stream",
     "text": [
      "EN: are you flexible ?\n",
      "GE: <start> bist du flexibel ? <end>\n",
      "GE (tokenized): [1, 32, 13, 2939, 7, 2]\n",
      "\n",
      "EN: tom enjoys that .\n",
      "GE: <start> tom geniesst das . <end>\n",
      "GE (tokenized): [1, 5, 2921, 11, 3, 2]\n",
      "\n",
      "EN: tom wasn't alone .\n",
      "GE: <start> tom war nicht allein . <end>\n",
      "GE (tokenized): [1, 5, 24, 12, 139, 3, 2]\n",
      "\n",
      "EN: i hope it's true .\n",
      "GE: <start> ich hoffe , das stimmt . <end>\n",
      "GE (tokenized): [1, 4, 278, 25, 11, 527, 3, 2]\n",
      "\n",
      "EN: she is quiet .\n",
      "GE: <start> sie ist still . <end>\n",
      "GE (tokenized): [1, 8, 6, 326, 3, 2]\n",
      "\n"
     ]
    }
   ],
   "source": [
    "# Print out at least 5 randomly chosen examples of (preprocessed) English and German sentence pairs.\n",
    "# For the German sentence, print out the text (with start and end tokens) as well as the tokenized sequence.\n",
    "\n",
    "for i in np.random.randint(len(en_sentences), size=5):\n",
    "    print(\"EN:\", en_sentences[i])\n",
    "    print(\"GE:\", ge_sentences[i])\n",
    "    print(\"GE (tokenized):\", ge_token_sequences[i])\n",
    "    print()"
   ]
  },
  {
   "cell_type": "code",
   "execution_count": 7,
   "metadata": {
    "ExecuteTime": {
     "end_time": "2022-04-26T09:59:48.354205Z",
     "start_time": "2022-04-26T09:59:48.279811Z"
    }
   },
   "outputs": [],
   "source": [
    "# Pad the end of the tokenized German sequences with zeros, and batch the complete set of sequences into one numpy array.\n",
    "\n",
    "ge_padded_sequences = pad_sequences(ge_token_sequences, padding=\"post\")"
   ]
  },
  {
   "cell_type": "markdown",
   "metadata": {},
   "source": [
    "## 2. Prepare the data with tf.data.Dataset objects"
   ]
  },
  {
   "cell_type": "markdown",
   "metadata": {},
   "source": [
    "#### Load the embedding layer\n",
    "As part of the dataset preproceessing for this project, you will use a pre-trained English word embedding module from TensorFlow Hub. The URL for the module is https://tfhub.dev/google/tf2-preview/nnlm-en-dim128-with-normalization/1. This module has also been made available as a complete saved model in the folder `'./models/tf2-preview_nnlm-en-dim128_1'`. \n",
    "\n",
    "This embedding takes a batch of text tokens in a 1-D tensor of strings as input. It then embeds the separate tokens into a 128-dimensional space. \n",
    "\n",
    "The code to load and test the embedding layer is provided for you below.\n",
    "\n",
    "**NB:** this model can also be used as a sentence embedding module. The module will process each token by removing punctuation and splitting on spaces. It then averages the word embeddings over a sentence to give a single embedding vector. However, we will use it only as a word embedding module, and will pass each word in the input sentence as a separate token."
   ]
  },
  {
   "cell_type": "code",
   "execution_count": 8,
   "metadata": {
    "ExecuteTime": {
     "end_time": "2022-04-26T09:59:50.215860Z",
     "start_time": "2022-04-26T09:59:48.355983Z"
    }
   },
   "outputs": [],
   "source": [
    "# Load embedding module from Tensorflow Hub\n",
    "\n",
    "embedding_layer = hub.KerasLayer(\"https://tfhub.dev/google/tf2-preview/nnlm-en-dim128/1\", \n",
    "                                 output_shape=[128], input_shape=[], dtype=tf.string)"
   ]
  },
  {
   "cell_type": "code",
   "execution_count": 9,
   "metadata": {
    "ExecuteTime": {
     "end_time": "2022-04-26T09:59:50.277109Z",
     "start_time": "2022-04-26T09:59:50.221705Z"
    }
   },
   "outputs": [
    {
     "data": {
      "text/plain": [
       "TensorShape([7, 128])"
      ]
     },
     "execution_count": 9,
     "metadata": {},
     "output_type": "execute_result"
    }
   ],
   "source": [
    "# Test the layer\n",
    "\n",
    "embedding_layer(tf.constant([\"these\", \"aren't\", \"the\", \"droids\", \"you're\", \"looking\", \"for\"])).shape"
   ]
  },
  {
   "cell_type": "markdown",
   "metadata": {},
   "source": [
    "You should now prepare the training and validation Datasets.\n",
    "\n",
    "* Create a random training and validation set split of the data, reserving e.g. 20% of the data for validation (NB: each English dataset example is a single sentence string, and each German dataset example is a sequence of padded integer tokens).\n",
    "* Load the training and validation sets into a tf.data.Dataset object, passing in a tuple of English and German data for both training and validation sets.\n",
    "* Create a function to map over the datasets that splits each English sentence at spaces. Apply this function to both Dataset objects using the map method. _Hint: look at the tf.strings.split function._\n",
    "* Create a function to map over the datasets that embeds each sequence of English words using the loaded embedding layer/model. Apply this function to both Dataset objects using the map method.\n",
    "* Create a function to filter out dataset examples where the English sentence is more than 13 (embedded) tokens in length. Apply this function to both Dataset objects using the filter method.\n",
    "* Create a function to map over the datasets that pads each English sequence of embeddings with some distinct padding value before the sequence, so that each sequence is length 13. Apply this function to both Dataset objects using the map method. _Hint: look at the tf.pad function. You can extract a Tensor shape using tf.shape; you might also find the tf.math.maximum function useful._\n",
    "* Batch both training and validation Datasets with a batch size of 16.\n",
    "* Print the `element_spec` property for the training and validation Datasets. \n",
    "* Using the Dataset `.take(1)` method, print the shape of the English data example from the training Dataset.\n",
    "* Using the Dataset `.take(1)` method, print the German data example Tensor from the validation Dataset."
   ]
  },
  {
   "cell_type": "code",
   "execution_count": 10,
   "metadata": {
    "ExecuteTime": {
     "end_time": "2022-04-26T09:59:50.293172Z",
     "start_time": "2022-04-26T09:59:50.279078Z"
    }
   },
   "outputs": [],
   "source": [
    "# Create a random training and validation set split of the data, reserving e.g. 20% of the data for validation\n",
    "# NB: each English dataset example is a single sentence string,\n",
    "#     and each German dataset example is a sequence of padded integer tokens.\n",
    "\n",
    "X_tr, X_val, y_tr, y_val = train_test_split(en_sentences, ge_padded_sequences)"
   ]
  },
  {
   "cell_type": "code",
   "execution_count": 11,
   "metadata": {
    "ExecuteTime": {
     "end_time": "2022-04-26T09:59:50.368883Z",
     "start_time": "2022-04-26T09:59:50.295088Z"
    }
   },
   "outputs": [],
   "source": [
    "# Load the training and validation sets into a tf.data.Dataset object,\n",
    "# passing in a tuple of English and German data for both training and validation sets.\n",
    "\n",
    "train_ds = tf.data.Dataset.from_tensor_slices((X_tr, y_tr))\n",
    "val_ds   = tf.data.Dataset.from_tensor_slices((X_val, y_val))"
   ]
  },
  {
   "cell_type": "code",
   "execution_count": 12,
   "metadata": {
    "ExecuteTime": {
     "end_time": "2022-04-26T09:59:50.495553Z",
     "start_time": "2022-04-26T09:59:50.370881Z"
    }
   },
   "outputs": [],
   "source": [
    "# Create a function to map over the datasets that splits each English sentence at spaces.\n",
    "# Apply this function to both Dataset objects using the map method.\n",
    "\n",
    "def split_first_sentence(x, y):\n",
    "    return tf.strings.split(x), y\n",
    "\n",
    "train_ds = train_ds.map(split_first_sentence)\n",
    "val_ds   = val_ds.map(split_first_sentence)"
   ]
  },
  {
   "cell_type": "code",
   "execution_count": 13,
   "metadata": {
    "ExecuteTime": {
     "end_time": "2022-04-26T09:59:50.915415Z",
     "start_time": "2022-04-26T09:59:50.497555Z"
    }
   },
   "outputs": [],
   "source": [
    "# Create a function to map over the datasets that embeds each sequence of English words\n",
    "# using the loaded embedding layer/model. Apply this function to both Dataset objects using the map method.\n",
    "\n",
    "def embed_first(x, y):\n",
    "    return embedding_layer(x), y\n",
    "\n",
    "train_ds = train_ds.map(embed_first)\n",
    "val_ds   = val_ds.map(embed_first)"
   ]
  },
  {
   "cell_type": "code",
   "execution_count": 14,
   "metadata": {
    "ExecuteTime": {
     "end_time": "2022-04-26T09:59:50.977863Z",
     "start_time": "2022-04-26T09:59:50.917276Z"
    }
   },
   "outputs": [],
   "source": [
    "# Create a function to filter out dataset examples where the English sentence is more than 13 (embedded) tokens in length.\n",
    "# Apply this function to both Dataset objects using the filter method.\n",
    "\n",
    "def no_more_than_13_tokens(x, y):\n",
    "    return tf.shape(x)[0] <= 13\n",
    "\n",
    "train_ds = train_ds.filter(no_more_than_13_tokens)\n",
    "val_ds   = val_ds.filter(no_more_than_13_tokens)"
   ]
  },
  {
   "cell_type": "code",
   "execution_count": 15,
   "metadata": {
    "ExecuteTime": {
     "end_time": "2022-04-26T09:59:51.054753Z",
     "start_time": "2022-04-26T09:59:50.980731Z"
    }
   },
   "outputs": [],
   "source": [
    "# Create a function to map over the datasets that pads each English sequence of embeddings\n",
    "# with some distinct padding value before the sequence, so that each sequence is length 13.\n",
    "# Apply this function to both Dataset objects using the map method.\n",
    "# Hint: look at the tf.pad function. \n",
    "# You can extract a Tensor shape using tf.shape;\n",
    "# you might also find the tf.math.maximum function useful.\n",
    "\n",
    "def pad_first(x, y):\n",
    "    seq_len = tf.shape(x)[0]\n",
    "    padding_len = 13 - seq_len\n",
    "    x = tf.pad(x, [[padding_len, 0], [0, 0]])\n",
    "    return x, y\n",
    "\n",
    "train_ds = train_ds.map(pad_first)\n",
    "val_ds   = val_ds.map(pad_first)"
   ]
  },
  {
   "cell_type": "code",
   "execution_count": 16,
   "metadata": {
    "ExecuteTime": {
     "end_time": "2022-04-26T09:59:51.070868Z",
     "start_time": "2022-04-26T09:59:51.056594Z"
    }
   },
   "outputs": [],
   "source": [
    "# Batch both training and validation Datasets with a batch size of 16.\n",
    "train_ds = train_ds.batch(16)\n",
    "val_ds   = val_ds.batch(16)"
   ]
  },
  {
   "cell_type": "code",
   "execution_count": 17,
   "metadata": {
    "ExecuteTime": {
     "end_time": "2022-04-26T09:59:51.086486Z",
     "start_time": "2022-04-26T09:59:51.073473Z"
    }
   },
   "outputs": [],
   "source": [
    "# Print the element_spec property for the training and validation Datasets."
   ]
  },
  {
   "cell_type": "code",
   "execution_count": 18,
   "metadata": {
    "ExecuteTime": {
     "end_time": "2022-04-26T09:59:51.101712Z",
     "start_time": "2022-04-26T09:59:51.088476Z"
    }
   },
   "outputs": [
    {
     "data": {
      "text/plain": [
       "(TensorSpec(shape=(None, None, 128), dtype=tf.float32, name=None),\n",
       " TensorSpec(shape=(None, 14), dtype=tf.int32, name=None))"
      ]
     },
     "execution_count": 18,
     "metadata": {},
     "output_type": "execute_result"
    }
   ],
   "source": [
    "train_ds.element_spec"
   ]
  },
  {
   "cell_type": "code",
   "execution_count": 19,
   "metadata": {
    "ExecuteTime": {
     "end_time": "2022-04-26T09:59:51.117737Z",
     "start_time": "2022-04-26T09:59:51.103734Z"
    }
   },
   "outputs": [
    {
     "data": {
      "text/plain": [
       "(TensorSpec(shape=(None, None, 128), dtype=tf.float32, name=None),\n",
       " TensorSpec(shape=(None, 14), dtype=tf.int32, name=None))"
      ]
     },
     "execution_count": 19,
     "metadata": {},
     "output_type": "execute_result"
    }
   ],
   "source": [
    "val_ds.element_spec"
   ]
  },
  {
   "cell_type": "code",
   "execution_count": 20,
   "metadata": {
    "ExecuteTime": {
     "end_time": "2022-04-26T09:59:51.447325Z",
     "start_time": "2022-04-26T09:59:51.120732Z"
    }
   },
   "outputs": [
    {
     "name": "stdout",
     "output_type": "stream",
     "text": [
      "(16, 13, 128)\n"
     ]
    }
   ],
   "source": [
    "# Using the Dataset .take(1) method, print the shape of the English data example from the training Dataset.\n",
    "\n",
    "# pick the first element\n",
    "for x, y in train_ds.take(1):\n",
    "    pass\n",
    "\n",
    "print(x.shape)"
   ]
  },
  {
   "cell_type": "code",
   "execution_count": 21,
   "metadata": {
    "ExecuteTime": {
     "end_time": "2022-04-26T09:59:51.773232Z",
     "start_time": "2022-04-26T09:59:51.454318Z"
    }
   },
   "outputs": [
    {
     "name": "stdout",
     "output_type": "stream",
     "text": [
      "tf.Tensor(\n",
      "[[   1    4   15  485  804    3    2    0    0    0    0    0    0    0]\n",
      " [   1   11    6  245    3    2    0    0    0    0    0    0    0    0]\n",
      " [   1   21 1042  183    9    2    0    0    0    0    0    0    0    0]\n",
      " [   1    4   30    5   12 5593    3    2    0    0    0    0    0    0]\n",
      " [   1    5   16   34  181  182    3    2    0    0    0    0    0    0]\n",
      " [   1    5 3115  235    3    2    0    0    0    0    0    0    0    0]\n",
      " [   1   17   69    8  339    3    2    0    0    0    0    0    0    0]\n",
      " [   1   14    6  106  208    3    2    0    0    0    0    0    0    0]\n",
      " [   1    4   15   62   33   20   75    3    2    0    0    0    0    0]\n",
      " [   1    4   30  307    3    2    0    0    0    0    0    0    0    0]\n",
      " [   1   32   13  966    7    2    0    0    0    0    0    0    0    0]\n",
      " [   1    4   30   11    9    2    0    0    0    0    0    0    0    0]\n",
      " [   1    4   84   25  132   10    5    6    3    2    0    0    0    0]\n",
      " [   1  659  600    5    7    2    0    0    0    0    0    0    0    0]\n",
      " [   1    5   68  870    3    2    0    0    0    0    0    0    0    0]\n",
      " [   1   11   24   37 1171    3    2    0    0    0    0    0    0    0]], shape=(16, 14), dtype=int32)\n"
     ]
    }
   ],
   "source": [
    "# Using the Dataset .take(1) method, print the German data example Tensor from the validation Dataset.\n",
    "\n",
    "# pick the first element\n",
    "for x, y in val_ds.take(1):\n",
    "    pass\n",
    "\n",
    "print(y)"
   ]
  },
  {
   "cell_type": "markdown",
   "metadata": {},
   "source": [
    "## 3. Create the custom layer\n",
    "You will now create a custom layer to add the learned end token embedding to the encoder model:\n",
    "\n",
    "![Encoder schematic](data/neural_translation_model_encoder.png)"
   ]
  },
  {
   "cell_type": "markdown",
   "metadata": {},
   "source": [
    "You should now build the custom layer.\n",
    "* Using layer subclassing, create a custom layer that takes a batch of English data examples from one of the Datasets, and adds a learned embedded ‘end’ token to the end of each sequence. \n",
    "* This layer should create a TensorFlow Variable (that will be learned during training) that is 128-dimensional (the size of the embedding space). _Hint: you may find it helpful in the call method to use the tf.tile function to replicate the end token embedding across every element in the batch._\n",
    "* Using the Dataset `.take(1)` method, extract a batch of English data examples from the training Dataset and print the shape. Test the custom layer by calling the layer on the English data batch Tensor and print the resulting Tensor shape (the layer should increase the sequence length by one)."
   ]
  },
  {
   "cell_type": "code",
   "execution_count": 22,
   "metadata": {
    "ExecuteTime": {
     "end_time": "2022-04-26T09:59:51.788387Z",
     "start_time": "2022-04-26T09:59:51.775288Z"
    }
   },
   "outputs": [],
   "source": [
    "class EndTokenLayer(tf.keras.layers.Layer):\n",
    "    def __init__(self, embedding_dim=128, **kwargs):\n",
    "        super(EndTokenLayer, self).__init__(**kwargs)\n",
    "        self.embedding_dim = embedding_dim\n",
    "\n",
    "    def build(self, input_shape):\n",
    "        self.end_token_embedding = self.add_weight(shape=(input_shape[-1], ))\n",
    "        \n",
    "    def call(self, inputs):\n",
    "        x = tf.reshape(self.end_token_embedding, (1,1, self.embedding_dim))\n",
    "        x = tf.tile(x, [tf.shape(inputs)[0], 1, 1])\n",
    "        return tf.keras.layers.Concatenate(1)([inputs, x])\n"
   ]
  },
  {
   "cell_type": "code",
   "execution_count": 23,
   "metadata": {
    "ExecuteTime": {
     "end_time": "2022-04-26T09:59:52.087587Z",
     "start_time": "2022-04-26T09:59:51.789382Z"
    }
   },
   "outputs": [
    {
     "name": "stdout",
     "output_type": "stream",
     "text": [
      "(16, 13, 128)\n"
     ]
    }
   ],
   "source": [
    "# Using the Dataset .take(1) method, extract a batch of English data examples from the training Dataset and print the shape.\n",
    "\n",
    "# pick the first element\n",
    "for x, y in train_ds.take(1):\n",
    "    pass\n",
    "\n",
    "print(x.shape)"
   ]
  },
  {
   "cell_type": "code",
   "execution_count": 24,
   "metadata": {
    "ExecuteTime": {
     "end_time": "2022-04-26T09:59:52.103593Z",
     "start_time": "2022-04-26T09:59:52.089510Z"
    }
   },
   "outputs": [
    {
     "name": "stdout",
     "output_type": "stream",
     "text": [
      "(16, 14, 128)\n"
     ]
    }
   ],
   "source": [
    "# Test the custom layer by calling the layer on the English data batch Tensor and\n",
    "# print the resulting Tensor shape (the layer should increase the sequence length by one).\n",
    "\n",
    "embedding_w_end_layer = EndTokenLayer()\n",
    "res = embedding_w_end_layer(x)\n",
    "\n",
    "print(res.shape)"
   ]
  },
  {
   "cell_type": "markdown",
   "metadata": {},
   "source": [
    "## 4. Build the encoder network\n",
    "The encoder network follows the schematic diagram above. You should now build the RNN encoder model.\n",
    "* Using the functional API, build the encoder network according to the following spec:\n",
    "    * The model will take a batch of sequences of embedded English words as input, as given by the Dataset objects.\n",
    "    * The next layer in the encoder will be the custom layer you created previously, to add a learned end token embedding to the end of the English sequence.\n",
    "    * This is followed by a Masking layer, with the `mask_value` set to the distinct padding value you used when you padded the English sequences with the Dataset preprocessing above.\n",
    "    * The final layer is an LSTM layer with 512 units, which also returns the hidden and cell states.\n",
    "    * The encoder is a multi-output model. There should be two output Tensors of this model: the hidden state and cell states of the LSTM layer. The output of the LSTM layer is unused.\n",
    "* Using the Dataset `.take(1)` method, extract a batch of English data examples from the training Dataset and test the encoder model by calling it on the English data Tensor, and print the shape of the resulting Tensor outputs.\n",
    "* Print the model summary for the encoder network."
   ]
  },
  {
   "cell_type": "code",
   "execution_count": 25,
   "metadata": {
    "ExecuteTime": {
     "end_time": "2022-04-26T09:59:53.071294Z",
     "start_time": "2022-04-26T09:59:52.105522Z"
    }
   },
   "outputs": [],
   "source": [
    "# The model will take a batch of sequences of embedded English words as input, as given by the Dataset objects.\n",
    "encoder_input = Input(shape=(13, 128), dtype=tf.float32)\n",
    "\n",
    "# The next layer in the encoder will be the custom layer you created previously,\n",
    "# to add a learned end token embedding to the end of the English sequence.\n",
    "x = EndTokenLayer()(encoder_input)\n",
    "\n",
    "# This is followed by a Masking layer, with the mask_value set to the distinct padding value you used\n",
    "# when you padded the English sequences with the Dataset preprocessing above.\n",
    "x = Masking(mask_value=0)(x)\n",
    "\n",
    "# The final layer is an LSTM layer with 512 units, which also returns the hidden and cell states.\n",
    "_, hidden_states, cell_states = LSTM(\n",
    "    units=512,\n",
    "    return_sequences=True, # hidden states\n",
    "    return_state=True     # cell states\n",
    ")(x)"
   ]
  },
  {
   "cell_type": "code",
   "execution_count": 26,
   "metadata": {
    "ExecuteTime": {
     "end_time": "2022-04-26T09:59:53.102357Z",
     "start_time": "2022-04-26T09:59:53.075261Z"
    }
   },
   "outputs": [],
   "source": [
    "encoder_model = tf.keras.Model(inputs=encoder_input, outputs=[hidden_states, cell_states])"
   ]
  },
  {
   "cell_type": "code",
   "execution_count": 27,
   "metadata": {
    "ExecuteTime": {
     "end_time": "2022-04-26T09:59:53.795460Z",
     "start_time": "2022-04-26T09:59:53.106346Z"
    }
   },
   "outputs": [],
   "source": [
    "# Using the Dataset .take(1) method, extract a batch of English data examples from the training Dataset and\n",
    "# test the encoder model by calling it on the English data Tensor\n",
    "\n",
    "for x, y in train_ds.take(1):\n",
    "    pass\n",
    "\n",
    "z_hidden, z_cell = encoder_model(x)"
   ]
  },
  {
   "cell_type": "code",
   "execution_count": 28,
   "metadata": {
    "ExecuteTime": {
     "end_time": "2022-04-26T09:59:53.811393Z",
     "start_time": "2022-04-26T09:59:53.797340Z"
    }
   },
   "outputs": [
    {
     "name": "stdout",
     "output_type": "stream",
     "text": [
      "Hidden states shape: tf.Tensor([ 16 512], shape=(2,), dtype=int32)\n",
      "Cell states shape: tf.Tensor([ 16 512], shape=(2,), dtype=int32)\n"
     ]
    }
   ],
   "source": [
    "# print the shape of the resulting Tensor outputs.\n",
    "print(\"Hidden states shape:\", tf.shape(z_hidden))\n",
    "print(\"Cell states shape:\", tf.shape(z_cell))"
   ]
  },
  {
   "cell_type": "code",
   "execution_count": 29,
   "metadata": {
    "ExecuteTime": {
     "end_time": "2022-04-26T09:59:53.842493Z",
     "start_time": "2022-04-26T09:59:53.813341Z"
    }
   },
   "outputs": [
    {
     "name": "stdout",
     "output_type": "stream",
     "text": [
      "Model: \"model\"\n",
      "_________________________________________________________________\n",
      " Layer (type)                Output Shape              Param #   \n",
      "=================================================================\n",
      " input_1 (InputLayer)        [(None, 13, 128)]         0         \n",
      "                                                                 \n",
      " end_token_layer_1 (EndToken  (None, 14, 128)          128       \n",
      " Layer)                                                          \n",
      "                                                                 \n",
      " masking (Masking)           (None, 14, 128)           0         \n",
      "                                                                 \n",
      " lstm (LSTM)                 [(None, 14, 512),         1312768   \n",
      "                              (None, 512),                       \n",
      "                              (None, 512)]                       \n",
      "                                                                 \n",
      "=================================================================\n",
      "Total params: 1,312,896\n",
      "Trainable params: 1,312,896\n",
      "Non-trainable params: 0\n",
      "_________________________________________________________________\n"
     ]
    }
   ],
   "source": [
    "# Print the model summary for the encoder network.\n",
    "encoder_model.summary()"
   ]
  },
  {
   "cell_type": "code",
   "execution_count": 30,
   "metadata": {
    "ExecuteTime": {
     "end_time": "2022-04-26T09:59:54.031973Z",
     "start_time": "2022-04-26T09:59:53.845649Z"
    }
   },
   "outputs": [
    {
     "data": {
      "image/png": "[encoded data removed]",
      "text/plain": [
       "<IPython.core.display.Image object>"
      ]
     },
     "execution_count": 30,
     "metadata": {},
     "output_type": "execute_result"
    }
   ],
   "source": [
    "tf.keras.utils.plot_model(encoder_model, 'encoder_model.png', show_shapes=True)"
   ]
  },
  {
   "cell_type": "markdown",
   "metadata": {},
   "source": [
    "## 5. Build the decoder network\n",
    "The decoder network follows the schematic diagram below. \n",
    "\n",
    "![Decoder schematic](data/neural_translation_model_decoder.png)"
   ]
  },
  {
   "cell_type": "markdown",
   "metadata": {},
   "source": [
    "You should now build the RNN decoder model.\n",
    "* Using Model subclassing, build the decoder network according to the following spec:\n",
    "    * The initializer should create the following layers:\n",
    "        * An Embedding layer with vocabulary size set to the number of unique German tokens, embedding dimension 128, and set to mask zero values in the input.\n",
    "        * An LSTM layer with 512 units, that returns its hidden and cell states, and also returns sequences.\n",
    "        * A Dense layer with number of units equal to the number of unique German tokens, and no activation function.\n",
    "    * The call method should include the usual `inputs` argument, as well as the additional keyword arguments `hidden_state` and `cell_state`. The default value for these keyword arguments should be `None`.\n",
    "    * The call method should pass the inputs through the Embedding layer, and then through the LSTM layer. If the `hidden_state` and `cell_state` arguments are provided, these should be used for the initial state of the LSTM layer. _Hint: use the_ `initial_state` _keyword argument when calling the LSTM layer on its input._\n",
    "    * The call method should pass the LSTM output sequence through the Dense layer, and return the resulting Tensor, along with the hidden and cell states of the LSTM layer.\n",
    "* Using the Dataset `.take(1)` method, extract a batch of English and German data examples from the training Dataset. Test the decoder model by first calling the encoder model on the English data Tensor to get the hidden and cell states, and then call the decoder model on the German data Tensor and hidden and cell states, and print the shape of the resulting decoder Tensor outputs.\n",
    "* Print the model summary for the decoder network."
   ]
  },
  {
   "cell_type": "code",
   "execution_count": 31,
   "metadata": {
    "ExecuteTime": {
     "end_time": "2022-04-26T09:59:54.047732Z",
     "start_time": "2022-04-26T09:59:54.034102Z"
    }
   },
   "outputs": [],
   "source": [
    "class RNNDecoder(tf.keras.Model):\n",
    "    def __init__(self, vocab_size, **kwargs):\n",
    "        super(RNNDecoder, self).__init__(kwargs)\n",
    "        # An Embedding layer with vocabulary size set to the number of unique German tokens,\n",
    "        # embedding dimension 128, and set to mask zero values in the input.\n",
    "        self.embedding_layer = Embedding(\n",
    "            input_dim=vocab_size,\n",
    "            output_dim=128,\n",
    "            mask_zero=True)\n",
    "        # An LSTM layer with 512 units, that returns its hidden and cell states, and also returns sequences.\n",
    "        self.recurrent_layer = LSTM(\n",
    "            units=512,\n",
    "            return_sequences=True,\n",
    "            return_state=True)\n",
    "        # A Dense layer with number of units equal to the number of unique German tokens, and no activation function.\n",
    "        self.dense_layer = Dense(units=vocab_size, activation=None)\n",
    "    \n",
    "    # The call method should include the usual inputs argument,\n",
    "    # as well as the additional keyword arguments hidden_state and cell_state.\n",
    "    # The default value for these keyword arguments should be None.\n",
    "    def call(self, inputs, hidden_state=None, cell_state=None):\n",
    "        # The call method should pass the inputs through the Embedding layer\n",
    "        x = self.embedding_layer(inputs)\n",
    "        \n",
    "        # and then through the LSTM layer.\n",
    "        # If the hidden_state and cell_state arguments are provided,\n",
    "        # these should be used for the initial state of the LSTM layer.\n",
    "        # Hint: use the initial_state keyword argument when calling the LSTM layer on its input.\n",
    "        if hidden_state is None or cell_state is None:\n",
    "            initial_state = None\n",
    "        else:\n",
    "            initial_state = [hidden_state, cell_state]\n",
    "        x, hidden_state, cell_state = self.recurrent_layer(x, initial_state=initial_state)\n",
    "        \n",
    "        # The call method should pass the LSTM output sequence through the Dense layer,\n",
    "        # and return the resulting Tensor, along with the hidden and cell states of the LSTM layer.\n",
    "        x = self.dense_layer(x)\n",
    "        return x, hidden_state, cell_state"
   ]
  },
  {
   "cell_type": "code",
   "execution_count": 32,
   "metadata": {
    "ExecuteTime": {
     "end_time": "2022-04-26T09:59:54.358060Z",
     "start_time": "2022-04-26T09:59:54.049740Z"
    }
   },
   "outputs": [],
   "source": [
    "# Using the Dataset .take(1) method, extract a batch of English and German data examples from the training Dataset.\n",
    "\n",
    "for x, y in train_ds.take(1):\n",
    "    pass"
   ]
  },
  {
   "cell_type": "code",
   "execution_count": 33,
   "metadata": {
    "ExecuteTime": {
     "end_time": "2022-04-26T09:59:54.419598Z",
     "start_time": "2022-04-26T09:59:54.359979Z"
    }
   },
   "outputs": [],
   "source": [
    "# Test the decoder model by first calling the encoder model on the English data Tensor to get the hidden and cell states,\n",
    "z_hidden, z_cell = encoder_model(x)"
   ]
  },
  {
   "cell_type": "code",
   "execution_count": 34,
   "metadata": {
    "ExecuteTime": {
     "end_time": "2022-04-26T09:59:55.131125Z",
     "start_time": "2022-04-26T09:59:54.421556Z"
    }
   },
   "outputs": [],
   "source": [
    "# and then call the decoder model on the German data Tensor and hidden and cell states,\n",
    "# and print the shape of the resulting decoder Tensor outputs.\n",
    "vocab_size = max(tokenizer.word_index.values()) + 1\n",
    "decoder_model = RNNDecoder(vocab_size)\n",
    "output, hidden_state, cell_state = decoder_model(y, z_hidden, z_cell)"
   ]
  },
  {
   "cell_type": "code",
   "execution_count": 35,
   "metadata": {
    "ExecuteTime": {
     "end_time": "2022-04-26T09:59:55.146136Z",
     "start_time": "2022-04-26T09:59:55.133063Z"
    }
   },
   "outputs": [
    {
     "data": {
      "text/plain": [
       "TensorShape([16, 14, 5744])"
      ]
     },
     "execution_count": 35,
     "metadata": {},
     "output_type": "execute_result"
    }
   ],
   "source": [
    "output.shape"
   ]
  },
  {
   "cell_type": "code",
   "execution_count": 36,
   "metadata": {
    "ExecuteTime": {
     "end_time": "2022-04-26T09:59:55.161667Z",
     "start_time": "2022-04-26T09:59:55.148113Z"
    }
   },
   "outputs": [
    {
     "data": {
      "text/plain": [
       "TensorShape([16, 512])"
      ]
     },
     "execution_count": 36,
     "metadata": {},
     "output_type": "execute_result"
    }
   ],
   "source": [
    "hidden_state.shape"
   ]
  },
  {
   "cell_type": "code",
   "execution_count": 37,
   "metadata": {
    "ExecuteTime": {
     "end_time": "2022-04-26T09:59:55.177131Z",
     "start_time": "2022-04-26T09:59:55.165165Z"
    }
   },
   "outputs": [
    {
     "data": {
      "text/plain": [
       "TensorShape([16, 512])"
      ]
     },
     "execution_count": 37,
     "metadata": {},
     "output_type": "execute_result"
    }
   ],
   "source": [
    "cell_state.shape"
   ]
  },
  {
   "cell_type": "code",
   "execution_count": 38,
   "metadata": {
    "ExecuteTime": {
     "end_time": "2022-04-26T09:59:55.207786Z",
     "start_time": "2022-04-26T09:59:55.180132Z"
    }
   },
   "outputs": [
    {
     "name": "stdout",
     "output_type": "stream",
     "text": [
      "Model: \"rnn_decoder\"\n",
      "_________________________________________________________________\n",
      " Layer (type)                Output Shape              Param #   \n",
      "=================================================================\n",
      " embedding (Embedding)       multiple                  735232    \n",
      "                                                                 \n",
      " lstm_1 (LSTM)               multiple                  1312768   \n",
      "                                                                 \n",
      " dense (Dense)               multiple                  2946672   \n",
      "                                                                 \n",
      "=================================================================\n",
      "Total params: 4,994,672\n",
      "Trainable params: 4,994,672\n",
      "Non-trainable params: 0\n",
      "_________________________________________________________________\n"
     ]
    }
   ],
   "source": [
    "# Print the model summary for the decoder network.\n",
    "decoder_model.summary()"
   ]
  },
  {
   "cell_type": "markdown",
   "metadata": {},
   "source": [
    "## 6. Make a custom training loop\n",
    "You should now write a custom training loop to train your custom neural translation model.\n",
    "* Define a function that takes a Tensor batch of German data (as extracted from the training Dataset), and returns a tuple containing German inputs and outputs for the decoder model (refer to schematic diagram above).\n",
    "* Define a function that computes the forward and backward pass for your translation model. This function should take an English input, German input and German output as arguments, and should do the following:\n",
    "    * Pass the English input into the encoder, to get the hidden and cell states of the encoder LSTM.\n",
    "    * These hidden and cell states are then passed into the decoder, along with the German inputs, which returns a sequence of outputs (the hidden and cell state outputs of the decoder LSTM are unused in this function).\n",
    "    * The loss should then be computed between the decoder outputs and the German output function argument.\n",
    "    * The function returns the loss and gradients with respect to the encoder and decoder’s trainable variables.\n",
    "    * Decorate the function with @tf.function\n",
    "* Define and run a custom training loop for a number of epochs (for you to choose) that does the following:\n",
    "    * Iterates through the training dataset, and creates decoder inputs and outputs from the German sequences.\n",
    "    * Updates the parameters of the translation model using the gradients of the function above and an optimizer object.\n",
    "    * Every epoch, compute the validation loss on a number of batches from the validation and save the epoch training and validation losses.\n",
    "* Plot the learning curves for loss vs epoch for both training and validation sets.\n",
    "\n",
    "_Hint: This model is computationally demanding to train. The quality of the model or length of training is not a factor in the grading rubric. However, to obtain a better model we recommend using the GPU accelerator hardware on Colab._"
   ]
  },
  {
   "cell_type": "code",
   "execution_count": 39,
   "metadata": {
    "ExecuteTime": {
     "end_time": "2022-04-26T09:59:55.223885Z",
     "start_time": "2022-04-26T09:59:55.209786Z"
    }
   },
   "outputs": [],
   "source": [
    "# Define a function that takes a Tensor batch of German data (as extracted from the training Dataset),\n",
    "# and returns a tuple containing German inputs and outputs for the decoder model (refer to schematic diagram above).\n",
    "\n",
    "def german_input_output(y):\n",
    "    inp = y[:, :-1]  # drop last word ('end token')\n",
    "    out = y[:, 1:]  # drop first word ('start token')\n",
    "\n",
    "    return inp, out"
   ]
  },
  {
   "cell_type": "code",
   "execution_count": 40,
   "metadata": {
    "ExecuteTime": {
     "end_time": "2022-04-26T09:59:55.238729Z",
     "start_time": "2022-04-26T09:59:55.226739Z"
    }
   },
   "outputs": [],
   "source": [
    "# Define a function that computes the forward and backward pass for your translation model.\n",
    "# This function should take an English input, German input and German output as arguments, and should do the following:\n",
    "\n",
    "@tf.function # Decorate the function with @tf.function\n",
    "def grad(model, loss_fn, en_data, ge_input, ge_output):\n",
    "\n",
    "    encoder_model, decoder_model = model\n",
    "    \n",
    "    with tf.GradientTape() as tape:\n",
    "        # Pass the English input into the encoder, to get the hidden and cell states of the encoder LSTM.\n",
    "        hidden_state, cell_state = encoder_model(en_data)\n",
    "\n",
    "        # These hidden and cell states are then passed into the decoder, along with the German inputs,\n",
    "        # which returns a sequence of outputs\n",
    "        # (the hidden and cell state outputs of the decoder LSTM are unused in this function).\n",
    "        outputs, _, _ = decoder_model(ge_input,\n",
    "                                      hidden_state=hidden_state,\n",
    "                                      cell_state=cell_state)\n",
    "\n",
    "        # The loss should then be computed between the decoder outputs and the German output function argument.\n",
    "        loss_value = loss_fn(ge_output, outputs)\n",
    "    \n",
    "    # The function returns the loss and gradients with respect to the encoder and decoder’s trainable variables.\n",
    "    return loss_value, tape.gradient(loss_value, encoder_model.trainable_variables + decoder_model.trainable_variables)"
   ]
  },
  {
   "cell_type": "code",
   "execution_count": 41,
   "metadata": {
    "ExecuteTime": {
     "end_time": "2022-04-26T12:12:02.609746Z",
     "start_time": "2022-04-26T09:59:55.241731Z"
    }
   },
   "outputs": [
    {
     "name": "stderr",
     "output_type": "stream",
     "text": [
      "938it [08:33,  1.83it/s]                                                                                               \n",
      "313it [03:11,  1.63it/s]                                                                                               \n"
     ]
    },
    {
     "name": "stdout",
     "output_type": "stream",
     "text": [
      "Epoch 00: Train loss: 5.540228366851807, Validation loss: 4.6501312255859375\n"
     ]
    },
    {
     "name": "stderr",
     "output_type": "stream",
     "text": [
      "938it [10:17,  1.52it/s]                                                                                               \n",
      "313it [03:12,  1.62it/s]                                                                                               \n"
     ]
    },
    {
     "name": "stdout",
     "output_type": "stream",
     "text": [
      "Epoch 01: Train loss: 4.4300923347473145, Validation loss: 3.7736546993255615\n"
     ]
    },
    {
     "name": "stderr",
     "output_type": "stream",
     "text": [
      "938it [10:09,  1.54it/s]                                                                                               \n",
      "313it [03:12,  1.62it/s]                                                                                               \n"
     ]
    },
    {
     "name": "stdout",
     "output_type": "stream",
     "text": [
      "Epoch 02: Train loss: 3.584939479827881, Validation loss: 2.8367443084716797\n"
     ]
    },
    {
     "name": "stderr",
     "output_type": "stream",
     "text": [
      "938it [10:10,  1.54it/s]                                                                                               \n",
      "313it [03:12,  1.62it/s]                                                                                               \n"
     ]
    },
    {
     "name": "stdout",
     "output_type": "stream",
     "text": [
      "Epoch 03: Train loss: 2.8185460567474365, Validation loss: 2.094186305999756\n"
     ]
    },
    {
     "name": "stderr",
     "output_type": "stream",
     "text": [
      "938it [10:09,  1.54it/s]                                                                                               \n",
      "313it [03:11,  1.63it/s]                                                                                               \n"
     ]
    },
    {
     "name": "stdout",
     "output_type": "stream",
     "text": [
      "Epoch 04: Train loss: 2.1041958332061768, Validation loss: 1.4622987508773804\n"
     ]
    },
    {
     "name": "stderr",
     "output_type": "stream",
     "text": [
      "938it [10:09,  1.54it/s]                                                                                               \n",
      "313it [03:12,  1.63it/s]                                                                                               \n"
     ]
    },
    {
     "name": "stdout",
     "output_type": "stream",
     "text": [
      "Epoch 05: Train loss: 1.4678330421447754, Validation loss: 0.9632067084312439\n"
     ]
    },
    {
     "name": "stderr",
     "output_type": "stream",
     "text": [
      "938it [10:08,  1.54it/s]                                                                                               \n",
      "313it [03:12,  1.63it/s]                                                                                               \n"
     ]
    },
    {
     "name": "stdout",
     "output_type": "stream",
     "text": [
      "Epoch 06: Train loss: 1.0002120733261108, Validation loss: 0.5974578261375427\n"
     ]
    },
    {
     "name": "stderr",
     "output_type": "stream",
     "text": [
      "938it [10:08,  1.54it/s]                                                                                               \n",
      "313it [03:11,  1.63it/s]                                                                                               \n"
     ]
    },
    {
     "name": "stdout",
     "output_type": "stream",
     "text": [
      "Epoch 07: Train loss: 0.6790553331375122, Validation loss: 0.40701964497566223\n"
     ]
    },
    {
     "name": "stderr",
     "output_type": "stream",
     "text": [
      "938it [10:08,  1.54it/s]                                                                                               \n",
      "313it [03:12,  1.63it/s]                                                                                               \n"
     ]
    },
    {
     "name": "stdout",
     "output_type": "stream",
     "text": [
      "Epoch 08: Train loss: 0.48245272040367126, Validation loss: 0.30835121870040894\n"
     ]
    },
    {
     "name": "stderr",
     "output_type": "stream",
     "text": [
      "938it [10:08,  1.54it/s]                                                                                               \n",
      "313it [03:12,  1.63it/s]                                                                                               "
     ]
    },
    {
     "name": "stdout",
     "output_type": "stream",
     "text": [
      "Epoch 09: Train loss: 0.367296427488327, Validation loss: 0.24054035544395447\n"
     ]
    },
    {
     "name": "stderr",
     "output_type": "stream",
     "text": [
      "\n"
     ]
    }
   ],
   "source": [
    "# Define and run a custom training loop for a number of epochs (for you to choose)\n",
    "\n",
    "num_epochs = 10\n",
    "\n",
    "optimizer = tf.keras.optimizers.Adam(learning_rate=1e-3)\n",
    "loss_fn = tf.keras.losses.SparseCategoricalCrossentropy(from_logits=True)\n",
    "# compile?\n",
    "\n",
    "train_loss_results = []\n",
    "val_loss_results = []\n",
    "\n",
    "for epoch in range(num_epochs):\n",
    "    \n",
    "    epoch_train_loss_avg = tf.keras.metrics.Mean()\n",
    "    epoch_val_loss_avg = tf.keras.metrics.Mean()\n",
    "\n",
    "    # Training loop\n",
    "    for en_data, ge_data in tqdm(train_ds, total=len(X_tr) // 16):\n",
    "\n",
    "        # Iterates through the training dataset, and creates decoder inputs and outputs from the German sequences.\n",
    "        ge_input, ge_output = german_input_output(ge_data)\n",
    "        \n",
    "        # Optimize the model\n",
    "        loss_value, grads = grad([encoder_model, decoder_model],\n",
    "                                 loss_fn,\n",
    "                                 en_data, ge_input, ge_output)\n",
    "        \n",
    "        # Updates the parameters of the translation model using the gradients of the function above and an optimizer object.\n",
    "        optimizer.apply_gradients(zip(grads, encoder_model.trainable_variables + decoder_model.trainable_variables))\n",
    "        \n",
    "        # training loss\n",
    "        epoch_train_loss_avg(loss_value)\n",
    "        \n",
    "    # Every epoch, compute the validation loss on a number of batches from the validation\n",
    "    for x, y in tqdm(val_ds, total=len(X_val) // 16):\n",
    "        loss_value, _ = grad([encoder_model, decoder_model],\n",
    "                             loss_fn,\n",
    "                             en_data, ge_input, ge_output)\n",
    "        epoch_val_loss_avg(loss_value)\n",
    "    \n",
    "    # save the epoch training and validation losses.\n",
    "    train_loss_results.append(epoch_train_loss_avg.result().numpy())\n",
    "    val_loss_results.append(epoch_val_loss_avg.result().numpy())\n",
    "\n",
    "    print(\"Epoch {:02d}: Train loss: {}, Validation loss: {}\".format(epoch,\n",
    "                                                               epoch_train_loss_avg.result(),\n",
    "                                                               epoch_val_loss_avg.result()))"
   ]
  },
  {
   "cell_type": "code",
   "execution_count": 42,
   "metadata": {
    "ExecuteTime": {
     "end_time": "2022-04-26T12:12:04.027742Z",
     "start_time": "2022-04-26T12:12:02.621750Z"
    }
   },
   "outputs": [
    {
     "data": {
      "text/plain": [
       "<AxesSubplot:title={'center':'loss vs epoch'}>"
      ]
     },
     "execution_count": 42,
     "metadata": {},
     "output_type": "execute_result"
    },
    {
     "data": {
      "image/png": "[encoded data removed]",
      "text/plain": [
       "<Figure size 432x288 with 1 Axes>"
      ]
     },
     "metadata": {
      "needs_background": "light"
     },
     "output_type": "display_data"
    }
   ],
   "source": [
    "# Plot the learning curves for loss vs epoch for both training and validation sets.\n",
    "pd.DataFrame({\n",
    "    'training_loss': train_loss_results,\n",
    "    'validation_loss': val_loss_results\n",
    "}).plot(\n",
    "    title = \"loss vs epoch\"\n",
    ")"
   ]
  },
  {
   "cell_type": "markdown",
   "metadata": {},
   "source": [
    "## 7. Use the model to translate\n",
    "Now it's time to put your model into practice! You should run your translation for five randomly sampled English sentences from the dataset. For each sentence, the process is as follows:\n",
    "* Preprocess and embed the English sentence according to the model requirements.\n",
    "* Pass the embedded sentence through the encoder to get the encoder hidden and cell states.\n",
    "* Starting with the special  `\"<start>\"` token, use this token and the final encoder hidden and cell states to get the one-step prediction from the decoder, as well as the decoder’s updated hidden and cell states.\n",
    "* Create a loop to get the next step prediction and updated hidden and cell states from the decoder, using the most recent hidden and cell states. Terminate the loop when the `\"<end>\"` token is emitted, or when the sentence has reached a maximum length.\n",
    "* Decode the output token sequence into German text and print the English text and the model's German translation."
   ]
  },
  {
   "cell_type": "code",
   "execution_count": 43,
   "metadata": {
    "ExecuteTime": {
     "end_time": "2022-04-26T12:12:04.781781Z",
     "start_time": "2022-04-26T12:12:04.029746Z"
    }
   },
   "outputs": [
    {
     "name": "stdout",
     "output_type": "stream",
     "text": [
      "English sentence:\t tom adores me .\n",
      "German translation:\t tom liebt mich .\n",
      "\n",
      "English sentence:\t tom dug a hole .\n",
      "German translation:\t tom hat eine medaille gewonnen .\n",
      "\n",
      "English sentence:\t do you need me ?\n",
      "German translation:\t wisst ihr mich ?\n",
      "\n",
      "English sentence:\t can you whistle ?\n",
      "German translation:\t kannst du gehen ?\n",
      "\n",
      "English sentence:\t we had no choice .\n",
      "German translation:\t wir haben keine beweise .\n",
      "\n"
     ]
    }
   ],
   "source": [
    "start = tokenizer.word_index[\"<start>\"]\n",
    "end = tokenizer.word_index[\"<end>\"]\n",
    "\n",
    "for i in np.random.choice(len(en_sentences), size=5):\n",
    "    english_sentence = en_sentences[i]\n",
    "    # Preprocess and embed the English sentence according to the model requirements.\n",
    "    s, _ = split_first_sentence(english_sentence, None)\n",
    "    s, _ = embed_first(s, None)\n",
    "    s, _ = pad_first(s, None)\n",
    "\n",
    "    # Pass the embedded sentence through the encoder to get the encoder hidden and cell states.\n",
    "    hidden_state, cell_state = encoder_model(s[None, ...])\n",
    "    \n",
    "    translated_sentence = []\n",
    "\n",
    "    # Starting with the special \"<start>\" token,\n",
    "    # use this token and the final encoder hidden and cell states to get the one-step prediction from the decoder,\n",
    "    # as well as the decoder’s updated hidden and cell states.\n",
    "    token_index = start\n",
    "    while True:\n",
    "        token =  tf.Variable([[token_index]])\n",
    "        output, hidden_state, cell_state = decoder_model(token, hidden_state, cell_state)\n",
    "        token_index = np.argmax(output[0][0].numpy())\n",
    "        if token_index == end:\n",
    "            break\n",
    "        german_word = tokenizer.index_word[token_index]\n",
    "        translated_sentence.append(german_word)\n",
    "    translated_sentence = \" \".join(translated_sentence)\n",
    "    print(\"English sentence:\\t\", english_sentence)\n",
    "    print(\"German translation:\\t\", translated_sentence)\n",
    "    print()"
   ]
  }
 ],
 "metadata": {
  "kernelspec": {
   "display_name": "Python 3 (ipykernel)",
   "language": "python",
   "name": "python3"
  },
  "language_info": {
   "codemirror_mode": {
    "name": "ipython",
    "version": 3
   },
   "file_extension": ".py",
   "mimetype": "text/x-python",
   "name": "python",
   "nbconvert_exporter": "python",
   "pygments_lexer": "ipython3",
   "version": "3.9.7"
  },
  "toc": {
   "base_numbering": 1,
   "nav_menu": {},
   "number_sections": false,
   "sideBar": true,
   "skip_h1_title": false,
   "title_cell": "Table of Contents",
   "title_sidebar": "Contents",
   "toc_cell": false,
   "toc_position": {},
   "toc_section_display": true,
   "toc_window_display": true
  }
 },
 "nbformat": 4,
 "nbformat_minor": 4
}
